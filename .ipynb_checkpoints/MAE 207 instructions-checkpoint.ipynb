{
 "cells": [
  {
   "cell_type": "markdown",
   "metadata": {},
   "source": [
    "# Before we start\n",
    "\n",
    "\n",
    "\n",
    "![all](all1.png)"
   ]
  },
  {
   "cell_type": "markdown",
   "metadata": {},
   "source": [
    "## Item list (each group): \n",
    "1.BLDC motors 335KV x2 (with M3x10mm bolts x8)\n",
    "\n",
    "2.Laser cut legs and spacers x5\n",
    "\n",
    "3.21A~24V DC power supply x1\n",
    "\n",
    "4.AMT 102 CUI encoder x2 (with 4 flat head M3 bolts)\n",
    "\n",
    "5.ODrive x1\n",
    "\n",
    "6.M4 bolts x8 and nuts x8\n",
    "\n",
    "7.jumping wires  (>=11)\n",
    "\n",
    "8.8020s (T-slots aluminum frame) x2\n",
    "\n",
    "9.allen wrench M2.5 x1\n",
    "\n",
    "10.allen wrench M3 x1\n",
    "\n",
    "\n",
    "\n",
    "\n",
    "\n",
    "     \n",
    "\n"
   ]
  },
  {
   "cell_type": "markdown",
   "metadata": {},
   "source": [
    "## Eletronic connections:\n",
    "\n",
    "1.Power supply connected to the wall using 3-wire cord, with thin stripped wires powering the ODrive board. \n",
    "\n",
    "_Note_: (on the power supply)  \n",
    "     * G-green\n",
    "     * N-black\n",
    "     * L-white\n",
    "     * +V <--> +V (ODrive)\n",
    "     * -V <--> -V (ODrive) \n",
    "                                 \n",
    "\n",
    "\n",
    "2.Motors (3 wires on each) connected to both M0 and M1 port (__does not matter what sequence they are, as long as they are connected, but that will affect the motor default rotary direction__.)\n",
    "\n",
    "3.Encoder must to be connected correctly using 4 jumper wires, __or the encoder will be burned!!__\n",
    "  \n",
    "  | Encoder   | ODrive   |\n",
    "  |-----------|:--------|\n",
    "  | GND       | GND|\n",
    "  | 5V        | 5V|\n",
    "  | Channel A |  A|\n",
    "  | Channel B | B|\n",
    "  \n",
    "4.Programmer connection is quite the same as the encoder, __GND has to be connected first!!__ [Ctrl+F --> \"SWC\" on this page](https://github.com/madcowswe/ODrive/blob/master/Firmware/README.md)\n",
    "  \n",
    "  | Programmer  | ODrive   |\n",
    "  |-----------|:--------|\n",
    "  | GND       | GND|\n",
    "  | SWCLK        | SWC|\n",
    "  | SWDIO |   SWD|\n",
    "  \n",
    "5.Solder the shunt resistance onto the ODrive board (__AUX__)\n",
    "  \n",
    "  \n",
    "  \n",
    "  \n",
    "![electronic connection odrive](1111.png)\n",
    "\n",
    "\n",
    "\n",
    "Here we finished all the electronic connection parts  (o_o)!"
   ]
  },
  {
   "cell_type": "markdown",
   "metadata": {},
   "source": [
    "## Software configuration:\n",
    "\n",
    "\n",
    "1.Download Python 3 and Jupyter Lab as mentioned in class. (__Windows 10/8/7 can use Anaconda, install python and jupyter lab from there__) [Anaconda Downloads](https://www.anaconda.com/download/#linux)\n",
    "\n",
    "2.Download VSCode for firmware flashing [VSCode](https://code.visualstudio.com/)\n",
    "\n",
    "3.Download the whole zip folder on the website and follow the steps in setting up the firmware [ODrive github firmware](https://github.com/madcowswe/ODrive/blob/master/Firmware/README.md)\n"
   ]
  },
  {
   "cell_type": "markdown",
   "metadata": {},
   "source": [
    "## Mechanical setup\n",
    "\n",
    "\n",
    "1.Encoder connection: using 2 M3 bolts to connect the encoder on the back of the shaft of the DC motor.\n",
    "\n",
    "\n",
    "![combined](combined1.png)\n",
    "\n",
    "2.Fasten the motor on to the acrylic mounts then fasten the whole thing onto the 8020s, adjust the distance of the 2 motors as you want. \n",
    "\n",
    "\n",
    "![combined2](combined2.png)\n",
    "\n",
    "\n",
    "\n",
    "3.Put on the legs onto the motors using props(in the motor box), bolts and nuts (1/4''-20) and run the example code as provided from the ODrive folder you downloaded. \n",
    "\n",
    "Using the legs as a manipulator to draw your name (a pen should be inserted)\n",
    "\n",
    "\n",
    "![combined3](combined3.png)\n",
    "\n"
   ]
  },
  {
   "cell_type": "code",
   "execution_count": null,
   "metadata": {},
   "outputs": [],
   "source": []
  }
 ],
 "metadata": {
  "kernelspec": {
   "display_name": "Python 3",
   "language": "python",
   "name": "python3"
  },
  "language_info": {
   "codemirror_mode": {
    "name": "ipython",
    "version": 3
   },
   "file_extension": ".py",
   "mimetype": "text/x-python",
   "name": "python",
   "nbconvert_exporter": "python",
   "pygments_lexer": "ipython3",
   "version": "3.5.2"
  }
 },
 "nbformat": 4,
 "nbformat_minor": 2
}
